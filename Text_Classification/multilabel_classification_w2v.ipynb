{
 "metadata": {
  "language_info": {
   "codemirror_mode": {
    "name": "ipython",
    "version": 3
   },
   "file_extension": ".py",
   "mimetype": "text/x-python",
   "name": "python",
   "nbconvert_exporter": "python",
   "pygments_lexer": "ipython3",
   "version": "3.9.4"
  },
  "orig_nbformat": 2,
  "kernelspec": {
   "name": "python394jvsc74a57bd0335ed5b9231ad0310da9b0e1723c1ef9c65779a33bdbe1c13b010d316e631b48",
   "display_name": "Python 3.9.4 64-bit"
  },
  "metadata": {
   "interpreter": {
    "hash": "335ed5b9231ad0310da9b0e1723c1ef9c65779a33bdbe1c13b010d316e631b48"
   }
  }
 },
 "nbformat": 4,
 "nbformat_minor": 2,
 "cells": [
  {
   "cell_type": "code",
   "execution_count": 15,
   "metadata": {},
   "outputs": [],
   "source": [
    "# Nico T. Solitana\n",
    "# De La Salle University Manila\n",
    "\n",
    "import pandas as pd \n",
    "import numpy as np \n",
    "from data_cleaner import *\n",
    "from gensim_vectorizer import *\n",
    "from sklearn.feature_extraction.text import TfidfVectorizer\n",
    "from sklearn.model_selection import train_test_split\n",
    "from training_testing import *"
   ]
  },
  {
   "cell_type": "code",
   "execution_count": 16,
   "metadata": {},
   "outputs": [],
   "source": [
    "# Load Dataset\n",
    "data = pd.read_csv('Dataset\\\\water_problem_nlp_en_for_Kaggle_filtered.csv')\n",
    "data = data.fillna(0)\n",
    "data.head()\n",
    "data['merge'] = data['text'] \n",
    "\n",
    "X = data['text'] \n",
    "y = data[list(data.columns[1:6])].values \n",
    "download_necessary_functions()"
   ]
  },
  {
   "cell_type": "code",
   "execution_count": 17,
   "metadata": {},
   "outputs": [
    {
     "output_type": "stream",
     "name": "stderr",
     "text": [
      "c:\\Users\\u721775\\Documents\\DebugFiles\\nlp\\Text_Classification\\gensim_vectorizer.py:12: VisibleDeprecationWarning: Creating an ndarray from ragged nested sequences (which is a list-or-tuple of lists-or-tuples-or ndarrays with different lengths or shapes) is deprecated. If you meant to do this, you must specify 'dtype=object' when creating the ndarray.\n  X = np.array([np.array([model[i] for i in ls if i in words])\n"
     ]
    }
   ],
   "source": [
    "# Trained own model\n",
    "w2v_model = CreateW2VModel(data)\n",
    "X = GetVectorValues(w2v_model.wv, data)"
   ]
  },
  {
   "cell_type": "code",
   "execution_count": 18,
   "metadata": {},
   "outputs": [],
   "source": [
    "# Load Pretrained word2vec embeddings\n",
    "model = LoadModel()"
   ]
  },
  {
   "cell_type": "code",
   "execution_count": 19,
   "metadata": {},
   "outputs": [],
   "source": [
    "# Pre-trained only\n",
    "# Convert tokens to Vectors and split for training and testing\n",
    "X = GetVectorValues(model, data)"
   ]
  },
  {
   "cell_type": "code",
   "execution_count": 5,
   "metadata": {},
   "outputs": [],
   "source": [
    "# Pre-trained model + Trained model\n",
    "# Convert tokens to Vectors and split for training and testing\n",
    "X = GetVectorValues(MergePretrainedTrainedModel(model, data).wv, data)"
   ]
  },
  {
   "cell_type": "code",
   "execution_count": 20,
   "metadata": {},
   "outputs": [],
   "source": [
    "# Splitting Dataset into Train and Test\n",
    "X_train, X_test, y_train, y_test = train_test_split(X, y, test_size=0.1)"
   ]
  },
  {
   "cell_type": "code",
   "execution_count": 21,
   "metadata": {},
   "outputs": [
    {
     "output_type": "stream",
     "name": "stdout",
     "text": [
      "[0.07692308 0.30769231 0.23076923 0.         0.25      ]\nAccuracy: 0.5 FScore: 0.667 Precision: 0.625 Recall: 0.714\n[[[0 3]\n  [0 5]]\n\n [[0 3]\n  [0 5]]\n\n [[7 0]\n  [1 0]]\n\n [[5 0]\n  [3 0]]\n\n [[8 0]\n  [0 0]]]\n"
     ]
    }
   ],
   "source": [
    "# ONE VS REST + LOGISTIC REGRESSION\n",
    "# Model Building, Cross Validation and Prediction\n",
    "SetTrainTest(X_train, X_test, y_train, y_test)\n",
    "TrainTestModel(lambda: OneVsRestClassifier(LogisticRegression(solver='lbfgs',max_iter=500)))\n",
    "\n",
    "# Check Model Performance\n",
    "accuracy, cf_matrix, f1_score, precision, recall = GetModelPerformance_Multilabel()\n",
    "print('Accuracy: {} FScore: {} Precision: {} Recall: {}'.format(accuracy, f1_score, precision, recall))\n",
    "print(cf_matrix)"
   ]
  },
  {
   "cell_type": "code",
   "execution_count": 8,
   "metadata": {},
   "outputs": [
    {
     "output_type": "stream",
     "name": "stdout",
     "text": [
      "[0.23076923 0.15384615 0.23076923 0.         0.25      ]\n",
      "Accuracy: 0.5 FScore: 0.759 Precision: 0.786 Recall: 0.733\n",
      "[[[0 2]\n",
      "  [0 6]]\n",
      "\n",
      " [[2 1]\n",
      "  [1 4]]\n",
      "\n",
      " [[7 0]\n",
      "  [1 0]]\n",
      "\n",
      " [[6 0]\n",
      "  [2 0]]\n",
      "\n",
      " [[7 0]\n",
      "  [0 1]]]\n"
     ]
    }
   ],
   "source": [
    "# ONE VS REST + RANDOM FOREST\n",
    "# Model Building, Cross Validation and Prediction\n",
    "SetTrainTest(X_train, X_test, y_train, y_test)\n",
    "TrainTestModel(lambda: OneVsRestClassifier(RandomForestClassifier(n_estimators=200, max_depth=20, n_jobs=-1)))\n",
    "\n",
    "# Check Model Performance\n",
    "accuracy, cf_matrix, f1_score, precision, recall = GetModelPerformance_Multilabel()\n",
    "print('Accuracy: {} FScore: {} Precision: {} Recall: {}'.format(accuracy, f1_score, precision, recall))\n",
    "print(cf_matrix)"
   ]
  },
  {
   "cell_type": "code",
   "execution_count": 7,
   "metadata": {},
   "outputs": [
    {
     "output_type": "stream",
     "name": "stdout",
     "text": [
      "[0.30769231 0.07692308 0.15384615 0.30769231 0.        ]\nAccuracy: 0.5 FScore: 0.71 Precision: 0.688 Recall: 0.733\n[[[0 2]\n  [0 6]]\n\n [[0 3]\n  [0 5]]\n\n [[7 0]\n  [1 0]]\n\n [[6 0]\n  [2 0]]\n\n [[7 0]\n  [1 0]]]\n"
     ]
    }
   ],
   "source": [
    "# ONE VS REST + SVM\n",
    "# Model Building, Cross Validation and Prediction\n",
    "SetTrainTest(X_train, X_test, y_train, y_test)\n",
    "TrainTestModel(lambda: OneVsRestClassifier(LinearSVC(C = 1, random_state=0)))\n",
    "\n",
    "# Check Model Performance\n",
    "accuracy, cf_matrix, f1_score, precision, recall = GetModelPerformance_Multilabel()\n",
    "print('Accuracy: {} FScore: {} Precision: {} Recall: {}'.format(accuracy, f1_score, precision, recall))\n",
    "print(cf_matrix)"
   ]
  },
  {
   "cell_type": "code",
   "execution_count": 22,
   "metadata": {},
   "outputs": [
    {
     "output_type": "stream",
     "name": "stdout",
     "text": [
      "[0. 0. 0. 0. 0.]\n",
      "Accuracy: 0.0 FScore: 0.529 Precision: 0.45 Recall: 0.643\n",
      "[[[1 2]\n",
      "  [2 3]]\n",
      "\n",
      " [[1 2]\n",
      "  [2 3]]\n",
      "\n",
      " [[7 0]\n",
      "  [1 0]]\n",
      "\n",
      " [[0 5]\n",
      "  [0 3]]\n",
      "\n",
      " [[6 2]\n",
      "  [0 0]]]\n"
     ]
    }
   ],
   "source": [
    "# ONE VS REST + GRADIENT BOOST\n",
    "# Model Building, Cross Validation and Prediction\n",
    "SetTrainTest(X_train, X_test, y_train, y_test)\n",
    "TrainTestModel(lambda: OneVsRestClassifier(GradientBoostingClassifier(learning_rate=10, \n",
    "                max_depth=2, random_state=0)))\n",
    "\n",
    "# Check Model Performance\n",
    "accuracy, cf_matrix, f1_score, precision, recall = GetModelPerformance_Multilabel()\n",
    "print('Accuracy: {} FScore: {} Precision: {} Recall: {}'.format(accuracy, f1_score, precision, recall))\n",
    "print(cf_matrix)"
   ]
  },
  {
   "cell_type": "code",
   "execution_count": null,
   "metadata": {},
   "outputs": [],
   "source": []
  }
 ]
}