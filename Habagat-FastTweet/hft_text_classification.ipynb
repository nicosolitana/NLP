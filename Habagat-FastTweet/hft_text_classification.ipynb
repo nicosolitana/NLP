{
 "cells": [
  {
   "cell_type": "code",
   "execution_count": null,
   "source": [
    "from data_classification import *"
   ],
   "outputs": [],
   "metadata": {}
  },
  {
   "cell_type": "code",
   "execution_count": null,
   "source": [
    "def ToList(modelname, accuracy, cf_matrix, f1_score, precision, recall):\r\n",
    "    lst = []\r\n",
    "    lst.append(modelname)\r\n",
    "    lst.append(accuracy)\r\n",
    "    lst.append(cf_matrix)\r\n",
    "    lst.append(f1_score)\r\n",
    "    lst.append(precision)\r\n",
    "    lst.append(recall)\r\n",
    "    return lst"
   ],
   "outputs": [],
   "metadata": {}
  },
  {
   "cell_type": "code",
   "execution_count": null,
   "source": [
    "# FOR FAST-TEXT MODEL UNSUPERVISED\r\n",
    "ResFT = []\r\n",
    "modelpath = ['pretrained_ft_us\\\\Habagat_FastTweet10.bin', \r\n",
    "    'pretrained_ft_us\\\\Habagat_FastTweet50.bin', \r\n",
    "    'pretrained_ft_us\\\\Habagat_FastTweet100.bin', \r\n",
    "    'pretrained_ft_us\\\\Habagat_FastTweet200.bin',\r\n",
    "    'pretrained_ft_us\\\\Habagat_FastTweet300.bin']\r\n",
    "\r\n",
    "for m in modelpath:\r\n",
    "    accuracy, cf_matrix, f1_score, precision, recall = TextClassification(m)\r\n",
    "    ResFT.append(ToList(m, accuracy, cf_matrix, f1_score, precision, recall))\r\n",
    "\r\n",
    "df = pd.DataFrame(ResFT)\r\n",
    "df.columns =['Model','Accuracy','CF','F1_Score', 'Precision', 'Recall']\r\n",
    "df"
   ],
   "outputs": [],
   "metadata": {}
  },
  {
   "cell_type": "code",
   "execution_count": null,
   "source": [
    "# FOR FAST-TEXT GENSIM MODEL SUPERVISED\r\n",
    "from data_classification import *\r\n",
    "ResFT = []\r\n",
    "modelpath = ['pretrained_gensim\\\\Habagat_FastTweetGS10.model', \r\n",
    "    'pretrained_gensim\\\\Habagat_FastTweetGS50.model', \r\n",
    "    'pretrained_gensim\\\\Habagat_FastTweetGS100.model', \r\n",
    "    'pretrained_gensim\\\\Habagat_FastTweetGS200.model',\r\n",
    "    'pretrained_gensim\\\\Habagat_FastTweetGS300.model']\r\n",
    "\r\n",
    "for m in modelpath:\r\n",
    "    accuracy, cf_matrix, f1_score, precision, recall = TextClassificationGS(m)\r\n",
    "    ResFT.append(ToList(m, accuracy, cf_matrix, f1_score, precision, recall))\r\n",
    "\r\n",
    "df = pd.DataFrame(ResFT)\r\n",
    "df.columns =['Model','Accuracy','CF','F1_Score', 'Precision', 'Recall']"
   ],
   "outputs": [],
   "metadata": {}
  },
  {
   "cell_type": "code",
   "execution_count": null,
   "source": [
    "# FOR FAST-TEXT BASE MODEL (EXISTING)\r\n",
    "ResFT = []\r\n",
    "m = 'base\\\\cc.tl.300.bin'\r\n",
    "accuracy, cf_matrix, f1_score, precision, recall = TextClassification(m)\r\n",
    "ResFT.append(ToList(m, accuracy, cf_matrix, f1_score, precision, recall))\r\n",
    "\r\n",
    "df = pd.DataFrame(ResFT)\r\n",
    "df.columns =['Model','Accuracy','CF','F1_Score', 'Precision', 'Recall']\r\n"
   ],
   "outputs": [],
   "metadata": {}
  }
 ],
 "metadata": {
  "orig_nbformat": 4,
  "language_info": {
   "name": "python"
  }
 },
 "nbformat": 4,
 "nbformat_minor": 2
}