{
 "cells": [
  {
   "cell_type": "code",
   "execution_count": null,
   "source": [
    "import time\r\n",
    "from fastTweet_trainer import *\r\n",
    "dims = [10, 50, 100, 200, 300]\r\n"
   ],
   "outputs": [],
   "metadata": {}
  },
  {
   "cell_type": "code",
   "execution_count": null,
   "source": [
    "# Creation of pre-trained FastText unsupervised model\r\n",
    "for d in dims:\r\n",
    "    start = time.time()\r\n",
    "    FastTweetTrainer_Unsupervised(d)\r\n",
    "    end = time.time()\r\n",
    "    print('Training Time: {}'.format(end - start))"
   ],
   "outputs": [],
   "metadata": {}
  },
  {
   "cell_type": "code",
   "execution_count": null,
   "source": [
    "# Creation of pre-trained FastText supervised model\r\n",
    "for d in dims:\r\n",
    "    start = time.time()\r\n",
    "    FastTweetTrainerGensim(d)\r\n",
    "    end = time.time()\r\n",
    "    print('Training Time: {}'.format(end - start))"
   ],
   "outputs": [],
   "metadata": {}
  }
 ],
 "metadata": {
  "orig_nbformat": 4,
  "language_info": {
   "name": "python"
  }
 },
 "nbformat": 4,
 "nbformat_minor": 2
}