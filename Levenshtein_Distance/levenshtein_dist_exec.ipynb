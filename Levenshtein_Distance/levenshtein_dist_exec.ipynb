{
 "metadata": {
  "language_info": {
   "codemirror_mode": {
    "name": "ipython",
    "version": 3
   },
   "file_extension": ".py",
   "mimetype": "text/x-python",
   "name": "python",
   "nbconvert_exporter": "python",
   "pygments_lexer": "ipython3",
   "version": "3.9.4"
  },
  "orig_nbformat": 4,
  "kernelspec": {
   "name": "python3",
   "display_name": "Python 3.9.4 64-bit"
  },
  "interpreter": {
   "hash": "335ed5b9231ad0310da9b0e1723c1ef9c65779a33bdbe1c13b010d316e631b48"
  }
 },
 "nbformat": 4,
 "nbformat_minor": 2,
 "cells": [
  {
   "cell_type": "code",
   "execution_count": 1,
   "metadata": {},
   "outputs": [],
   "source": [
    "# ---------------------------------------------------------------------------\n",
    "# @Title: Levenstein Distance (Minimum Edit Distance)\n",
    "# @Author: Nico Solitana\n",
    "# @Course: Natural Language Processing\n",
    "# ---------------------------------------------------------------------------"
   ]
  },
  {
   "cell_type": "code",
   "execution_count": 2,
   "metadata": {},
   "outputs": [
    {
     "output_type": "execute_result",
     "data": {
      "text/plain": [
       "   #  E  X   E   C   U   T   I   O   N\n",
       "#  0  1  2   3   4   5   6   7   8   9\n",
       "I  1  2  3   4   5   6   7   6   7   8\n",
       "N  2  3  4   5   6   7   8   7   8   7\n",
       "T  3  4  5   6   7   8   7   8   9   8\n",
       "E  4  3  4   5   6   7   8   9  10   9\n",
       "N  5  4  5   6   7   8   9  10  11  10\n",
       "T  6  5  6   7   8   9   8   9  10  11\n",
       "I  7  6  7   8   9  10   9   8   9  10\n",
       "O  8  7  8   9  10  11  10   9   8   9\n",
       "N  9  8  9  10  11  12  11  10   9   8"
      ],
      "text/html": "<div>\n<style scoped>\n    .dataframe tbody tr th:only-of-type {\n        vertical-align: middle;\n    }\n\n    .dataframe tbody tr th {\n        vertical-align: top;\n    }\n\n    .dataframe thead th {\n        text-align: right;\n    }\n</style>\n<table border=\"1\" class=\"dataframe\">\n  <thead>\n    <tr style=\"text-align: right;\">\n      <th></th>\n      <th>#</th>\n      <th>E</th>\n      <th>X</th>\n      <th>E</th>\n      <th>C</th>\n      <th>U</th>\n      <th>T</th>\n      <th>I</th>\n      <th>O</th>\n      <th>N</th>\n    </tr>\n  </thead>\n  <tbody>\n    <tr>\n      <th>#</th>\n      <td>0</td>\n      <td>1</td>\n      <td>2</td>\n      <td>3</td>\n      <td>4</td>\n      <td>5</td>\n      <td>6</td>\n      <td>7</td>\n      <td>8</td>\n      <td>9</td>\n    </tr>\n    <tr>\n      <th>I</th>\n      <td>1</td>\n      <td>2</td>\n      <td>3</td>\n      <td>4</td>\n      <td>5</td>\n      <td>6</td>\n      <td>7</td>\n      <td>6</td>\n      <td>7</td>\n      <td>8</td>\n    </tr>\n    <tr>\n      <th>N</th>\n      <td>2</td>\n      <td>3</td>\n      <td>4</td>\n      <td>5</td>\n      <td>6</td>\n      <td>7</td>\n      <td>8</td>\n      <td>7</td>\n      <td>8</td>\n      <td>7</td>\n    </tr>\n    <tr>\n      <th>T</th>\n      <td>3</td>\n      <td>4</td>\n      <td>5</td>\n      <td>6</td>\n      <td>7</td>\n      <td>8</td>\n      <td>7</td>\n      <td>8</td>\n      <td>9</td>\n      <td>8</td>\n    </tr>\n    <tr>\n      <th>E</th>\n      <td>4</td>\n      <td>3</td>\n      <td>4</td>\n      <td>5</td>\n      <td>6</td>\n      <td>7</td>\n      <td>8</td>\n      <td>9</td>\n      <td>10</td>\n      <td>9</td>\n    </tr>\n    <tr>\n      <th>N</th>\n      <td>5</td>\n      <td>4</td>\n      <td>5</td>\n      <td>6</td>\n      <td>7</td>\n      <td>8</td>\n      <td>9</td>\n      <td>10</td>\n      <td>11</td>\n      <td>10</td>\n    </tr>\n    <tr>\n      <th>T</th>\n      <td>6</td>\n      <td>5</td>\n      <td>6</td>\n      <td>7</td>\n      <td>8</td>\n      <td>9</td>\n      <td>8</td>\n      <td>9</td>\n      <td>10</td>\n      <td>11</td>\n    </tr>\n    <tr>\n      <th>I</th>\n      <td>7</td>\n      <td>6</td>\n      <td>7</td>\n      <td>8</td>\n      <td>9</td>\n      <td>10</td>\n      <td>9</td>\n      <td>8</td>\n      <td>9</td>\n      <td>10</td>\n    </tr>\n    <tr>\n      <th>O</th>\n      <td>8</td>\n      <td>7</td>\n      <td>8</td>\n      <td>9</td>\n      <td>10</td>\n      <td>11</td>\n      <td>10</td>\n      <td>9</td>\n      <td>8</td>\n      <td>9</td>\n    </tr>\n    <tr>\n      <th>N</th>\n      <td>9</td>\n      <td>8</td>\n      <td>9</td>\n      <td>10</td>\n      <td>11</td>\n      <td>12</td>\n      <td>11</td>\n      <td>10</td>\n      <td>9</td>\n      <td>8</td>\n    </tr>\n  </tbody>\n</table>\n</div>"
     },
     "metadata": {},
     "execution_count": 2
    }
   ],
   "source": [
    "from levenshtein_dist import *\n",
    "\n",
    "# Change the value of the firstWord and SecondWord\n",
    "firstWord = '#' + 'INTENTION'\n",
    "secondWord = '#' + 'EXECUTION'\n",
    "\n",
    "# Sample inputs\n",
    "#firstWord = '#' + 'GIRAFFE'\n",
    "#secondWord = '#' + 'GRAFFE'\n",
    "#firstWord = '#' + 'SUNDAY'\n",
    "#secondWord = '#' + 'SATURDAY'\n",
    "\n",
    "#firstWord = '#' + 'EXECUTION'\n",
    "#secondWord = '#' + 'INTENTION'\n",
    "#firstWord = '#' + 'GRAFFE'\n",
    "#secondWord = '#' + 'GIRAFFE'\n",
    "#firstWord = '#' + 'SATURDAY'\n",
    "#secondWord = '#' + 'SUNDAY'\n",
    "\n",
    "matrix = levenstein_distance(firstWord, secondWord)\n",
    "df = create_ld_df(matrix, firstWord, secondWord)\n",
    "df"
   ]
  },
  {
   "cell_type": "code",
   "execution_count": 3,
   "metadata": {},
   "outputs": [
    {
     "output_type": "stream",
     "name": "stdout",
     "text": [
      "Minimum edit distance: 8\n"
     ]
    }
   ],
   "source": [
    "GetMinimumDistance(matrix, firstWord, secondWord)"
   ]
  },
  {
   "cell_type": "code",
   "execution_count": 4,
   "metadata": {},
   "outputs": [
    {
     "output_type": "stream",
     "name": "stdout",
     "text": [
      "INTE_NTION\n_EXECUTION\n"
     ]
    }
   ],
   "source": [
    "BackTracking(matrix, firstWord, secondWord)"
   ]
  },
  {
   "cell_type": "code",
   "execution_count": null,
   "metadata": {},
   "outputs": [],
   "source": []
  }
 ]
}