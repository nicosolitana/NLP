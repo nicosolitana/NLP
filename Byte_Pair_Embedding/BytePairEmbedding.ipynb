{
  "nbformat": 4,
  "nbformat_minor": 0,
  "metadata": {
    "colab": {
      "name": "BytePairEmbedding.ipynb",
      "provenance": [],
      "collapsed_sections": []
    },
    "kernelspec": {
      "name": "python3",
      "display_name": "Python 3"
    },
    "language_info": {
      "name": "python"
    }
  },
  "cells": [
    {
      "cell_type": "code",
      "metadata": {
        "id": "FNumWMN_lwkH"
      },
      "source": [
        "###########################################################\n",
        "# @Title: Byte Pair Enbedding\n",
        "# @Author: Nico T. Solitana\n",
        "# @Course: Natural Language Processing\n",
        "###########################################################"
      ],
      "execution_count": null,
      "outputs": []
    },
    {
      "cell_type": "code",
      "metadata": {
        "id": "cQefTmG-kPYW"
      },
      "source": [
        "# To access BytePairLanguage from whatlies\n",
        "pip install whatlies[all]"
      ],
      "execution_count": null,
      "outputs": []
    },
    {
      "cell_type": "code",
      "metadata": {
        "id": "8s0zrNZukVVO"
      },
      "source": [
        "# To override the existing gensim module since score_similar from Byte Pair Language\n",
        "# is still using the older version\n",
        "pip install gensim==3.8.3"
      ],
      "execution_count": null,
      "outputs": []
    },
    {
      "cell_type": "code",
      "metadata": {
        "id": "xn1_xSlWkWR_"
      },
      "source": [
        "# Importing necessary modules for Byte Pair Encoding\n",
        "from whatlies.language import BytePairLanguage"
      ],
      "execution_count": null,
      "outputs": []
    },
    {
      "cell_type": "code",
      "metadata": {
        "id": "8HGpM_s0kXsb"
      },
      "source": [
        "# Get Tagalog Embeddings\n",
        "bpeTl = BytePairLanguage(lang='tl', dim=300, vs=10000)"
      ],
      "execution_count": null,
      "outputs": []
    },
    {
      "cell_type": "code",
      "metadata": {
        "colab": {
          "base_uri": "https://localhost:8080/"
        },
        "id": "od2HxafRkaAt",
        "outputId": "edc8333a-1257-4af1-f9b8-6a1f45a96df4"
      },
      "source": [
        "bpeTl.score_similar('pinagkahumalingan', n=10)"
      ],
      "execution_count": null,
      "outputs": [
        {
          "output_type": "execute_result",
          "data": {
            "text/plain": [
              "[(Emb[zuma], 0.533458615596687),\n",
              " (Emb[ath], 0.5553785806774618),\n",
              " (Emb[nah], 0.5734057414862045),\n",
              " (Emb[beth], 0.5811096139110807),\n",
              " (Emb[rah], 0.6055767382018966),\n",
              " (Emb[jah], 0.6348469620568915),\n",
              " (Emb[lah], 0.6508692076259497),\n",
              " (Emb[gh], 0.6521407598356366),\n",
              " (Emb[weh], 0.6637327832053286),\n",
              " (Emb[esh], 0.6729121022043101)]"
            ]
          },
          "metadata": {
            "tags": []
          },
          "execution_count": 10
        }
      ]
    },
    {
      "cell_type": "code",
      "metadata": {
        "colab": {
          "base_uri": "https://localhost:8080/"
        },
        "id": "z5JVi0gEkdXY",
        "outputId": "51dabf2a-6e22-4af7-8fd9-cdc8e83a1bcf"
      },
      "source": [
        "bpeTl.score_similar('pinagkahabilinan')"
      ],
      "execution_count": null,
      "outputs": [
        {
          "output_type": "execute_result",
          "data": {
            "text/plain": [
              "[(Emb[hanan], 0.3825061433571235),\n",
              " (Emb[onan], 0.4247810462331628),\n",
              " (Emb[lunan], 0.4549073505295793),\n",
              " (Emb[sanan], 0.4676633469807512),\n",
              " (Emb[manan], 0.4678937078257508),\n",
              " (Emb[unan], 0.471457286362449),\n",
              " (Emb[banan], 0.48028907162340784),\n",
              " (Emb[tunan], 0.4838182917800906),\n",
              " (Emb[yanan], 0.4915109385827173),\n",
              " (Emb[ganan], 0.4928470022731062)]"
            ]
          },
          "metadata": {
            "tags": []
          },
          "execution_count": 7
        }
      ]
    },
    {
      "cell_type": "code",
      "metadata": {
        "colab": {
          "base_uri": "https://localhost:8080/"
        },
        "id": "F1CmWmMhkgHW",
        "outputId": "4eab6acc-8ffc-439c-d837-191f71c011ad"
      },
      "source": [
        "bpeTl.score_similar('pinagkaabalahan')"
      ],
      "execution_count": null,
      "outputs": [
        {
          "output_type": "execute_result",
          "data": {
            "text/plain": [
              "[(Emb[siyahan], 0.5044374525140911),\n",
              " (Emb[halagahan], 0.5169751344759338),\n",
              " (Emb[kahan], 0.5195228577144904),\n",
              " (Emb[sahan], 0.519997256066027),\n",
              " (Emb[tihan], 0.52227407377417),\n",
              " (Emb[luhan], 0.5399555069648843),\n",
              " (Emb[unahan], 0.5557708804974886),\n",
              " (Emb[dahan], 0.560581157921926),\n",
              " (Emb[mahan], 0.5610157158257654),\n",
              " (Emb[uhan], 0.573447033538116)]"
            ]
          },
          "metadata": {
            "tags": []
          },
          "execution_count": 8
        }
      ]
    },
    {
      "cell_type": "code",
      "metadata": {
        "colab": {
          "base_uri": "https://localhost:8080/"
        },
        "id": "Cb5Rvdc3kiL9",
        "outputId": "348ec6fe-743d-4fd4-8984-bdf2f888e47b"
      },
      "source": [
        "bpeTl.score_similar('pinagsasaluhan')"
      ],
      "execution_count": null,
      "outputs": [
        {
          "output_type": "execute_result",
          "data": {
            "text/plain": [
              "[(Emb[▁pinagsasa], 0.5084403664194785),\n",
              " (Emb[dina], 0.6770881263253989),\n",
              " (Emb[tat], 0.7038935315877954),\n",
              " (Emb[nada], 0.7193963237841855),\n",
              " (Emb[▁pampang], 0.7466409117093881),\n",
              " (Emb[▁makabu], 0.7584569459693753),\n",
              " (Emb[pinag], 0.7686376972095044),\n",
              " (Emb[gina], 0.7767209513750342),\n",
              " (Emb[pana], 0.7781946866784317),\n",
              " (Emb[isipang], 0.78004806951894)]"
            ]
          },
          "metadata": {
            "tags": []
          },
          "execution_count": 9
        }
      ]
    },
    {
      "cell_type": "code",
      "metadata": {
        "colab": {
          "base_uri": "https://localhost:8080/"
        },
        "id": "UWwwMKQqkoEs",
        "outputId": "90d96fe4-44d9-47b2-85d2-8119ae746094"
      },
      "source": [
        "bpeTl.score_similar('pinagdaramutan')"
      ],
      "execution_count": null,
      "outputs": [
        {
          "output_type": "execute_result",
          "data": {
            "text/plain": [
              "[(Emb[sada], 0.3921873579350065),\n",
              " (Emb[gada], 0.405277977650516),\n",
              " (Emb[gatan], 0.4091532809727805),\n",
              " (Emb[patan], 0.410150788159249),\n",
              " (Emb[utan], 0.41251932068936736),\n",
              " (Emb[batan], 0.41527904377032543),\n",
              " (Emb[gdagan], 0.41835913625322263),\n",
              " (Emb[itan], 0.4186671682454879),\n",
              " (Emb[latan], 0.4198264556307765),\n",
              " (Emb[limu], 0.43353639810166267)]"
            ]
          },
          "metadata": {
            "tags": []
          },
          "execution_count": 10
        }
      ]
    }
  ]
}